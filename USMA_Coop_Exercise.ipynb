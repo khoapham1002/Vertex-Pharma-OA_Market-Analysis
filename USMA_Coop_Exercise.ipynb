{
 "cells": [
  {
   "cell_type": "code",
   "execution_count": null,
   "id": "b9b5ae36",
   "metadata": {},
   "outputs": [],
   "source": [
    "import pandas as pd\n",
    "import matplotlib.pyplot as plt"
   ]
  },
  {
   "cell_type": "markdown",
   "id": "537fbf02",
   "metadata": {},
   "source": [
    "### Import the dataset"
   ]
  },
  {
   "cell_type": "code",
   "execution_count": 20,
   "id": "21bbfd7a",
   "metadata": {},
   "outputs": [
    {
     "data": {
      "text/html": [
       "<div>\n",
       "<style scoped>\n",
       "    .dataframe tbody tr th:only-of-type {\n",
       "        vertical-align: middle;\n",
       "    }\n",
       "\n",
       "    .dataframe tbody tr th {\n",
       "        vertical-align: top;\n",
       "    }\n",
       "\n",
       "    .dataframe thead th {\n",
       "        text-align: right;\n",
       "    }\n",
       "</style>\n",
       "<table border=\"1\" class=\"dataframe\">\n",
       "  <thead>\n",
       "    <tr style=\"text-align: right;\">\n",
       "      <th></th>\n",
       "      <th>Brand</th>\n",
       "      <th>Manufacturer</th>\n",
       "      <th>Therapeutic Area</th>\n",
       "      <th>Region</th>\n",
       "      <th>Sales Units</th>\n",
       "      <th>Unit Price</th>\n",
       "    </tr>\n",
       "  </thead>\n",
       "  <tbody>\n",
       "    <tr>\n",
       "      <th>0</th>\n",
       "      <td>Abarcafil</td>\n",
       "      <td>Cascade Therapeutics</td>\n",
       "      <td>ARV</td>\n",
       "      <td>East</td>\n",
       "      <td>30245</td>\n",
       "      <td>260</td>\n",
       "    </tr>\n",
       "    <tr>\n",
       "      <th>1</th>\n",
       "      <td>Abarcafil</td>\n",
       "      <td>Cascade Therapeutics</td>\n",
       "      <td>ARV</td>\n",
       "      <td>Mid-West</td>\n",
       "      <td>23333</td>\n",
       "      <td>260</td>\n",
       "    </tr>\n",
       "    <tr>\n",
       "      <th>2</th>\n",
       "      <td>Abarcafil</td>\n",
       "      <td>Cascade Therapeutics</td>\n",
       "      <td>ARV</td>\n",
       "      <td>South</td>\n",
       "      <td>18432</td>\n",
       "      <td>260</td>\n",
       "    </tr>\n",
       "    <tr>\n",
       "      <th>3</th>\n",
       "      <td>Abarcafil</td>\n",
       "      <td>Cascade Therapeutics</td>\n",
       "      <td>ARV</td>\n",
       "      <td>West</td>\n",
       "      <td>34134</td>\n",
       "      <td>260</td>\n",
       "    </tr>\n",
       "    <tr>\n",
       "      <th>4</th>\n",
       "      <td>Alistuzumab</td>\n",
       "      <td>Matterhorn Pharma</td>\n",
       "      <td>Oncology</td>\n",
       "      <td>East</td>\n",
       "      <td>6831</td>\n",
       "      <td>950</td>\n",
       "    </tr>\n",
       "  </tbody>\n",
       "</table>\n",
       "</div>"
      ],
      "text/plain": [
       "         Brand          Manufacturer Therapeutic Area    Region  Sales Units  \\\n",
       "0    Abarcafil  Cascade Therapeutics              ARV      East        30245   \n",
       "1    Abarcafil  Cascade Therapeutics              ARV  Mid-West        23333   \n",
       "2    Abarcafil  Cascade Therapeutics              ARV     South        18432   \n",
       "3    Abarcafil  Cascade Therapeutics              ARV      West        34134   \n",
       "4  Alistuzumab     Matterhorn Pharma         Oncology      East         6831   \n",
       "\n",
       "   Unit Price  \n",
       "0         260  \n",
       "1         260  \n",
       "2         260  \n",
       "3         260  \n",
       "4         950  "
      ]
     },
     "execution_count": 20,
     "metadata": {},
     "output_type": "execute_result"
    }
   ],
   "source": [
    "# Load your dataset\n",
    "file_path = \"data_orginal.xlsx\"\n",
    "df = pd.read_excel(file_path, sheet_name='Sheet1')\n",
    "df.head()"
   ]
  },
  {
   "cell_type": "code",
   "execution_count": null,
   "id": "35fbf06e",
   "metadata": {},
   "outputs": [],
   "source": [
    "# Step 1: Calculate Revenue\n",
    "df['Total Sales'] = df['Sales Units'] * df['Unit Price']"
   ]
  },
  {
   "cell_type": "code",
   "execution_count": null,
   "id": "c83680b9",
   "metadata": {},
   "outputs": [
    {
     "data": {
      "text/html": [
       "<div>\n",
       "<style scoped>\n",
       "    .dataframe tbody tr th:only-of-type {\n",
       "        vertical-align: middle;\n",
       "    }\n",
       "\n",
       "    .dataframe tbody tr th {\n",
       "        vertical-align: top;\n",
       "    }\n",
       "\n",
       "    .dataframe thead th {\n",
       "        text-align: right;\n",
       "    }\n",
       "</style>\n",
       "<table border=\"1\" class=\"dataframe\">\n",
       "  <thead>\n",
       "    <tr style=\"text-align: right;\">\n",
       "      <th></th>\n",
       "      <th>Sales Units</th>\n",
       "      <th>Total Sales</th>\n",
       "    </tr>\n",
       "    <tr>\n",
       "      <th>Brand</th>\n",
       "      <th></th>\n",
       "      <th></th>\n",
       "    </tr>\n",
       "  </thead>\n",
       "  <tbody>\n",
       "    <tr>\n",
       "      <th>Abarcafil</th>\n",
       "      <td>106144</td>\n",
       "      <td>27597440</td>\n",
       "    </tr>\n",
       "    <tr>\n",
       "      <th>Alistuzumab</th>\n",
       "      <td>20976</td>\n",
       "      <td>19927200</td>\n",
       "    </tr>\n",
       "    <tr>\n",
       "      <th>Astoridone</th>\n",
       "      <td>10600</td>\n",
       "      <td>1855000</td>\n",
       "    </tr>\n",
       "    <tr>\n",
       "      <th>Bertigrevir</th>\n",
       "      <td>89709</td>\n",
       "      <td>8522355</td>\n",
       "    </tr>\n",
       "    <tr>\n",
       "      <th>Empigrevir</th>\n",
       "      <td>117037</td>\n",
       "      <td>46814800</td>\n",
       "    </tr>\n",
       "    <tr>\n",
       "      <th>Fortinib</th>\n",
       "      <td>16684</td>\n",
       "      <td>21272100</td>\n",
       "    </tr>\n",
       "    <tr>\n",
       "      <th>Janogrevir</th>\n",
       "      <td>111517</td>\n",
       "      <td>39030950</td>\n",
       "    </tr>\n",
       "    <tr>\n",
       "      <th>Krastuzumab</th>\n",
       "      <td>15455</td>\n",
       "      <td>10818500</td>\n",
       "    </tr>\n",
       "    <tr>\n",
       "      <th>Orestidone</th>\n",
       "      <td>12702</td>\n",
       "      <td>1270200</td>\n",
       "    </tr>\n",
       "    <tr>\n",
       "      <th>Pluvitinib</th>\n",
       "      <td>17448</td>\n",
       "      <td>13958400</td>\n",
       "    </tr>\n",
       "    <tr>\n",
       "      <th>Sparitonin</th>\n",
       "      <td>9698</td>\n",
       "      <td>824330</td>\n",
       "    </tr>\n",
       "    <tr>\n",
       "      <th>Treatinib</th>\n",
       "      <td>11584</td>\n",
       "      <td>19403200</td>\n",
       "    </tr>\n",
       "    <tr>\n",
       "      <th>Ventrofil</th>\n",
       "      <td>132936</td>\n",
       "      <td>19940400</td>\n",
       "    </tr>\n",
       "    <tr>\n",
       "      <th>Vizidone</th>\n",
       "      <td>10967</td>\n",
       "      <td>1645050</td>\n",
       "    </tr>\n",
       "  </tbody>\n",
       "</table>\n",
       "</div>"
      ],
      "text/plain": [
       "             Sales Units  Total Sales\n",
       "Brand                                \n",
       "Abarcafil         106144     27597440\n",
       "Alistuzumab        20976     19927200\n",
       "Astoridone         10600      1855000\n",
       "Bertigrevir        89709      8522355\n",
       "Empigrevir        117037     46814800\n",
       "Fortinib           16684     21272100\n",
       "Janogrevir        111517     39030950\n",
       "Krastuzumab        15455     10818500\n",
       "Orestidone         12702      1270200\n",
       "Pluvitinib         17448     13958400\n",
       "Sparitonin          9698       824330\n",
       "Treatinib          11584     19403200\n",
       "Ventrofil         132936     19940400\n",
       "Vizidone           10967      1645050"
      ]
     },
     "execution_count": 62,
     "metadata": {},
     "output_type": "execute_result"
    }
   ],
   "source": [
    "# Step 2: Group by Brand and summarize\n",
    "brand_summary = df.groupby('Brand').agg({\n",
    "    'Sales Units': 'sum',\n",
    "    'Total Sales': 'sum'\n",
    "})\n",
    "brand_summary\n"
   ]
  },
  {
   "cell_type": "code",
   "execution_count": 63,
   "id": "da0cbd8b",
   "metadata": {},
   "outputs": [
    {
     "data": {
      "text/html": [
       "<div>\n",
       "<style scoped>\n",
       "    .dataframe tbody tr th:only-of-type {\n",
       "        vertical-align: middle;\n",
       "    }\n",
       "\n",
       "    .dataframe tbody tr th {\n",
       "        vertical-align: top;\n",
       "    }\n",
       "\n",
       "    .dataframe thead th {\n",
       "        text-align: right;\n",
       "    }\n",
       "</style>\n",
       "<table border=\"1\" class=\"dataframe\">\n",
       "  <thead>\n",
       "    <tr style=\"text-align: right;\">\n",
       "      <th></th>\n",
       "      <th>Units Sold</th>\n",
       "      <th>Revenue</th>\n",
       "      <th>Unit Price</th>\n",
       "    </tr>\n",
       "    <tr>\n",
       "      <th>Brand</th>\n",
       "      <th></th>\n",
       "      <th></th>\n",
       "      <th></th>\n",
       "    </tr>\n",
       "  </thead>\n",
       "  <tbody>\n",
       "    <tr>\n",
       "      <th>Abarcafil</th>\n",
       "      <td>106144</td>\n",
       "      <td>27597440</td>\n",
       "      <td>260.0</td>\n",
       "    </tr>\n",
       "    <tr>\n",
       "      <th>Alistuzumab</th>\n",
       "      <td>20976</td>\n",
       "      <td>19927200</td>\n",
       "      <td>950.0</td>\n",
       "    </tr>\n",
       "    <tr>\n",
       "      <th>Astoridone</th>\n",
       "      <td>10600</td>\n",
       "      <td>1855000</td>\n",
       "      <td>175.0</td>\n",
       "    </tr>\n",
       "    <tr>\n",
       "      <th>Bertigrevir</th>\n",
       "      <td>89709</td>\n",
       "      <td>8522355</td>\n",
       "      <td>95.0</td>\n",
       "    </tr>\n",
       "    <tr>\n",
       "      <th>Empigrevir</th>\n",
       "      <td>117037</td>\n",
       "      <td>46814800</td>\n",
       "      <td>400.0</td>\n",
       "    </tr>\n",
       "    <tr>\n",
       "      <th>Fortinib</th>\n",
       "      <td>16684</td>\n",
       "      <td>21272100</td>\n",
       "      <td>1275.0</td>\n",
       "    </tr>\n",
       "    <tr>\n",
       "      <th>Janogrevir</th>\n",
       "      <td>111517</td>\n",
       "      <td>39030950</td>\n",
       "      <td>350.0</td>\n",
       "    </tr>\n",
       "    <tr>\n",
       "      <th>Krastuzumab</th>\n",
       "      <td>15455</td>\n",
       "      <td>10818500</td>\n",
       "      <td>700.0</td>\n",
       "    </tr>\n",
       "    <tr>\n",
       "      <th>Orestidone</th>\n",
       "      <td>12702</td>\n",
       "      <td>1270200</td>\n",
       "      <td>100.0</td>\n",
       "    </tr>\n",
       "    <tr>\n",
       "      <th>Pluvitinib</th>\n",
       "      <td>17448</td>\n",
       "      <td>13958400</td>\n",
       "      <td>800.0</td>\n",
       "    </tr>\n",
       "    <tr>\n",
       "      <th>Sparitonin</th>\n",
       "      <td>9698</td>\n",
       "      <td>824330</td>\n",
       "      <td>85.0</td>\n",
       "    </tr>\n",
       "    <tr>\n",
       "      <th>Treatinib</th>\n",
       "      <td>11584</td>\n",
       "      <td>19403200</td>\n",
       "      <td>1675.0</td>\n",
       "    </tr>\n",
       "    <tr>\n",
       "      <th>Ventrofil</th>\n",
       "      <td>132936</td>\n",
       "      <td>19940400</td>\n",
       "      <td>150.0</td>\n",
       "    </tr>\n",
       "    <tr>\n",
       "      <th>Vizidone</th>\n",
       "      <td>10967</td>\n",
       "      <td>1645050</td>\n",
       "      <td>150.0</td>\n",
       "    </tr>\n",
       "  </tbody>\n",
       "</table>\n",
       "</div>"
      ],
      "text/plain": [
       "             Units Sold   Revenue  Unit Price\n",
       "Brand                                        \n",
       "Abarcafil        106144  27597440       260.0\n",
       "Alistuzumab       20976  19927200       950.0\n",
       "Astoridone        10600   1855000       175.0\n",
       "Bertigrevir       89709   8522355        95.0\n",
       "Empigrevir       117037  46814800       400.0\n",
       "Fortinib          16684  21272100      1275.0\n",
       "Janogrevir       111517  39030950       350.0\n",
       "Krastuzumab       15455  10818500       700.0\n",
       "Orestidone        12702   1270200       100.0\n",
       "Pluvitinib        17448  13958400       800.0\n",
       "Sparitonin         9698    824330        85.0\n",
       "Treatinib         11584  19403200      1675.0\n",
       "Ventrofil        132936  19940400       150.0\n",
       "Vizidone          10967   1645050       150.0"
      ]
     },
     "execution_count": 63,
     "metadata": {},
     "output_type": "execute_result"
    }
   ],
   "source": [
    "# Rename columns for clarity\n",
    "brand_summary = brand_summary.rename(columns={'Sales Units': 'Units Sold'})\n",
    "brand_summary = brand_summary.rename(columns={'Total Sales': 'Revenue'})\n",
    "\n",
    "\n",
    "# Add Unit Price column to brand_summary\n",
    "# brand_summary['Unit Price'] = brand_summary['Revenue'] / brand_summary['Units Sold']\n",
    "brand_summary['Unit Price'] = df.groupby('Brand')['Unit Price'].mean()\n",
    "brand_summary\n"
   ]
  },
  {
   "cell_type": "code",
   "execution_count": 66,
   "id": "a25bf11a",
   "metadata": {},
   "outputs": [
    {
     "data": {
      "text/html": [
       "<div>\n",
       "<style scoped>\n",
       "    .dataframe tbody tr th:only-of-type {\n",
       "        vertical-align: middle;\n",
       "    }\n",
       "\n",
       "    .dataframe tbody tr th {\n",
       "        vertical-align: top;\n",
       "    }\n",
       "\n",
       "    .dataframe thead th {\n",
       "        text-align: right;\n",
       "    }\n",
       "</style>\n",
       "<table border=\"1\" class=\"dataframe\">\n",
       "  <thead>\n",
       "    <tr style=\"text-align: right;\">\n",
       "      <th></th>\n",
       "      <th>Market Share (%)</th>\n",
       "      <th>Units Sold</th>\n",
       "      <th>Revenue</th>\n",
       "      <th>Unit Price</th>\n",
       "    </tr>\n",
       "    <tr>\n",
       "      <th>Brand</th>\n",
       "      <th></th>\n",
       "      <th></th>\n",
       "      <th></th>\n",
       "      <th></th>\n",
       "    </tr>\n",
       "  </thead>\n",
       "  <tbody>\n",
       "    <tr>\n",
       "      <th>Empigrevir</th>\n",
       "      <td>20.10</td>\n",
       "      <td>117037</td>\n",
       "      <td>46814800</td>\n",
       "      <td>400.0</td>\n",
       "    </tr>\n",
       "    <tr>\n",
       "      <th>Janogrevir</th>\n",
       "      <td>16.76</td>\n",
       "      <td>111517</td>\n",
       "      <td>39030950</td>\n",
       "      <td>350.0</td>\n",
       "    </tr>\n",
       "    <tr>\n",
       "      <th>Abarcafil</th>\n",
       "      <td>11.85</td>\n",
       "      <td>106144</td>\n",
       "      <td>27597440</td>\n",
       "      <td>260.0</td>\n",
       "    </tr>\n",
       "    <tr>\n",
       "      <th>Fortinib</th>\n",
       "      <td>9.13</td>\n",
       "      <td>16684</td>\n",
       "      <td>21272100</td>\n",
       "      <td>1275.0</td>\n",
       "    </tr>\n",
       "    <tr>\n",
       "      <th>Alistuzumab</th>\n",
       "      <td>8.56</td>\n",
       "      <td>20976</td>\n",
       "      <td>19927200</td>\n",
       "      <td>950.0</td>\n",
       "    </tr>\n",
       "    <tr>\n",
       "      <th>Ventrofil</th>\n",
       "      <td>8.56</td>\n",
       "      <td>132936</td>\n",
       "      <td>19940400</td>\n",
       "      <td>150.0</td>\n",
       "    </tr>\n",
       "    <tr>\n",
       "      <th>Treatinib</th>\n",
       "      <td>8.33</td>\n",
       "      <td>11584</td>\n",
       "      <td>19403200</td>\n",
       "      <td>1675.0</td>\n",
       "    </tr>\n",
       "    <tr>\n",
       "      <th>Pluvitinib</th>\n",
       "      <td>5.99</td>\n",
       "      <td>17448</td>\n",
       "      <td>13958400</td>\n",
       "      <td>800.0</td>\n",
       "    </tr>\n",
       "    <tr>\n",
       "      <th>Krastuzumab</th>\n",
       "      <td>4.65</td>\n",
       "      <td>15455</td>\n",
       "      <td>10818500</td>\n",
       "      <td>700.0</td>\n",
       "    </tr>\n",
       "    <tr>\n",
       "      <th>Bertigrevir</th>\n",
       "      <td>3.66</td>\n",
       "      <td>89709</td>\n",
       "      <td>8522355</td>\n",
       "      <td>95.0</td>\n",
       "    </tr>\n",
       "    <tr>\n",
       "      <th>Astoridone</th>\n",
       "      <td>0.80</td>\n",
       "      <td>10600</td>\n",
       "      <td>1855000</td>\n",
       "      <td>175.0</td>\n",
       "    </tr>\n",
       "    <tr>\n",
       "      <th>Vizidone</th>\n",
       "      <td>0.71</td>\n",
       "      <td>10967</td>\n",
       "      <td>1645050</td>\n",
       "      <td>150.0</td>\n",
       "    </tr>\n",
       "    <tr>\n",
       "      <th>Orestidone</th>\n",
       "      <td>0.55</td>\n",
       "      <td>12702</td>\n",
       "      <td>1270200</td>\n",
       "      <td>100.0</td>\n",
       "    </tr>\n",
       "    <tr>\n",
       "      <th>Sparitonin</th>\n",
       "      <td>0.35</td>\n",
       "      <td>9698</td>\n",
       "      <td>824330</td>\n",
       "      <td>85.0</td>\n",
       "    </tr>\n",
       "  </tbody>\n",
       "</table>\n",
       "</div>"
      ],
      "text/plain": [
       "             Market Share (%)  Units Sold   Revenue  Unit Price\n",
       "Brand                                                          \n",
       "Empigrevir              20.10      117037  46814800       400.0\n",
       "Janogrevir              16.76      111517  39030950       350.0\n",
       "Abarcafil               11.85      106144  27597440       260.0\n",
       "Fortinib                 9.13       16684  21272100      1275.0\n",
       "Alistuzumab              8.56       20976  19927200       950.0\n",
       "Ventrofil                8.56      132936  19940400       150.0\n",
       "Treatinib                8.33       11584  19403200      1675.0\n",
       "Pluvitinib               5.99       17448  13958400       800.0\n",
       "Krastuzumab              4.65       15455  10818500       700.0\n",
       "Bertigrevir              3.66       89709   8522355        95.0\n",
       "Astoridone               0.80       10600   1855000       175.0\n",
       "Vizidone                 0.71       10967   1645050       150.0\n",
       "Orestidone               0.55       12702   1270200       100.0\n",
       "Sparitonin               0.35        9698    824330        85.0"
      ]
     },
     "execution_count": 66,
     "metadata": {},
     "output_type": "execute_result"
    }
   ],
   "source": [
    "# Step 3: Calculate Market Share\n",
    "brand_summary['Market Share (%)'] = (brand_summary['Revenue'] / brand_summary['Revenue'].sum()) * 100\n",
    "brand_summary = brand_summary.round({'Market Share (%)': 2})\n",
    "\n",
    "brand_summary = brand_summary[['Market Share (%)', 'Units Sold', 'Revenue', 'Unit Price']]\n",
    "brand_summary = brand_summary.sort_values(by='Market Share (%)', ascending=False)\n",
    "brand_summary"
   ]
  },
  {
   "cell_type": "code",
   "execution_count": 45,
   "id": "08cf7fea",
   "metadata": {},
   "outputs": [
    {
     "data": {
      "text/plain": [
       "683457"
      ]
     },
     "execution_count": 45,
     "metadata": {},
     "output_type": "execute_result"
    }
   ],
   "source": [
    "units_sold_grand_total = brand_summary['Units Sold'].sum()\n",
    "units_sold_grand_total"
   ]
  },
  {
   "cell_type": "code",
   "execution_count": 46,
   "id": "de7c2448",
   "metadata": {},
   "outputs": [
    {
     "data": {
      "text/plain": [
       "232879925"
      ]
     },
     "execution_count": 46,
     "metadata": {},
     "output_type": "execute_result"
    }
   ],
   "source": [
    "revenue_grand_total = brand_summary['Revenue'].sum()\n",
    "revenue_grand_total"
   ]
  },
  {
   "cell_type": "code",
   "execution_count": 53,
   "id": "93123e1b",
   "metadata": {},
   "outputs": [
    {
     "data": {
      "image/png": "[encoded data removed]",
      "text/plain": [
       "<Figure size 1000x800 with 1 Axes>"
      ]
     },
     "metadata": {},
     "output_type": "display_data"
    }
   ],
   "source": [
    "# 8. Create Pie Chart\n",
    "plt.figure(figsize=(10, 8))\n",
    "plt.pie(brand_summary[\"Market Share (%)\"], labels=brand_summary.index, autopct='%1.1f%%', startangle=140)\n",
    "plt.title(\"% Market Share by Brand\")\n",
    "# plt.axis('equal')\n",
    "plt.show()\n"
   ]
  },
  {
   "cell_type": "markdown",
   "id": "0965a923",
   "metadata": {},
   "source": [
    "### 1. Is Empigrevir a high-priced drug, or does it just sell a lot?\n"
   ]
  },
  {
   "cell_type": "code",
   "execution_count": 54,
   "id": "d72d7104",
   "metadata": {},
   "outputs": [
    {
     "name": "stdout",
     "output_type": "stream",
     "text": [
      "Empigrevir sold 117,037 units and made $46,814,800 — that's $400.00 per unit.\n"
     ]
    }
   ],
   "source": [
    "empigrevir = df[df['Brand'] == 'Empigrevir']\n",
    "emp_units = empigrevir['Sales Units'].sum()\n",
    "emp_revenue = empigrevir['Revenue'].sum()\n",
    "emp_price = emp_revenue / emp_units\n",
    "\n",
    "print(f\"Empigrevir sold {emp_units:,} units and made ${emp_revenue:,} — that's ${emp_price:.2f} per unit.\")"
   ]
  },
  {
   "cell_type": "markdown",
   "id": "1011b96e",
   "metadata": {},
   "source": [
    "- Insight: Empigrevir drives the most revenue because it’s widely used (always in top 3 Units Sold in each Region), not because it’s expensive.\n",
    "- Strategy: Find out what’s helping it reach so many patients like coverage, prescriber habits, or distribution, and use the same approach for similar ARV products."
   ]
  },
  {
   "cell_type": "markdown",
   "id": "68ed9563",
   "metadata": {},
   "source": [
    "### 2. What explains Fortinib’s high revenue with few units?"
   ]
  },
  {
   "cell_type": "code",
   "execution_count": 55,
   "id": "e06c5335",
   "metadata": {},
   "outputs": [
    {
     "name": "stdout",
     "output_type": "stream",
     "text": [
      "Fortinib sold 16,684 units and made $21,272,100 — that's $1275.00 per unit.\n"
     ]
    }
   ],
   "source": [
    "fortinib = df[df['Brand'] == 'Fortinib']\n",
    "fort_units = fortinib['Sales Units'].sum()\n",
    "fort_revenue = fortinib['Revenue'].sum()\n",
    "fort_price = fort_revenue / fort_units\n",
    "\n",
    "print(f\"Fortinib sold {fort_units:,} units and made ${fort_revenue:,} — that's ${fort_price:.2f} per unit.\")"
   ]
  },
  {
   "cell_type": "markdown",
   "id": "5521bd42",
   "metadata": {},
   "source": [
    "- Insight: Fortinib makes a lot of money from a small number of sales, it’s priced high likely due to its cancer use.\n",
    "- Strategy: Focus on keeping that premium justified, build clinical trust, highlight outcomes, and work with payers where needed."
   ]
  },
  {
   "cell_type": "markdown",
   "id": "afc5a3db",
   "metadata": {},
   "source": [
    "### 3. Which brands are high volume but low revenue (possible underpriced)?"
   ]
  },
  {
   "cell_type": "code",
   "execution_count": 56,
   "id": "ac7f5f5e",
   "metadata": {},
   "outputs": [
    {
     "name": "stdout",
     "output_type": "stream",
     "text": [
      "\n",
      "Top 5 high-volume brands (check their pricing):\n",
      "             Units Sold   Revenue  Avg Price\n",
      "Brand                                       \n",
      "Ventrofil        132936  19940400      150.0\n",
      "Empigrevir       117037  46814800      400.0\n",
      "Janogrevir       111517  39030950      350.0\n",
      "Abarcafil        106144  27597440      260.0\n",
      "Bertigrevir       89709   8522355       95.0\n"
     ]
    }
   ],
   "source": [
    "brand_summary = df.groupby('Brand').agg({\n",
    "    'Sales Units': 'sum',\n",
    "    'Revenue': 'sum'\n",
    "}).rename(columns={'Sales Units': 'Units Sold'})\n",
    "\n",
    "brand_summary['Avg Price'] = brand_summary['Revenue'] / brand_summary['Units Sold']\n",
    "high_volume_low_price = brand_summary.sort_values(by='Units Sold', ascending=False).head(5)\n",
    "\n",
    "print(\"\\nTop 5 high-volume brands (check their pricing):\")\n",
    "print(high_volume_low_price)"
   ]
  },
  {
   "cell_type": "markdown",
   "id": "4c49d046",
   "metadata": {},
   "source": [
    "Ventrofil sold 132,936 units but made $19.9M ($150 per unit).\n",
    "- Insight: Ventrofil sells the most units but earns less per unit — it might be underpriced or heavily discounted.\n",
    "- Strategy: Review its pricing and see if there’s room to adjust without losing market share.\n"
   ]
  },
  {
   "cell_type": "markdown",
   "id": "6797c426",
   "metadata": {},
   "source": [
    "### 4. Are top market share brands from the same Therapeutic Area?\n"
   ]
  },
  {
   "cell_type": "code",
   "execution_count": 57,
   "id": "5583e8ec",
   "metadata": {},
   "outputs": [
    {
     "name": "stdout",
     "output_type": "stream",
     "text": [
      "\n",
      "Top 3 brands by revenue and their therapeutic area:\n",
      "        Brand   Revenue Therapeutic Area\n",
      "0  Empigrevir  46814800              ARV\n",
      "1  Janogrevir  39030950              ARV\n",
      "2   Abarcafil  27597440              ARV\n"
     ]
    }
   ],
   "source": [
    "df_total_rev = df.groupby('Brand')['Revenue'].sum().reset_index()\n",
    "\n",
    "# Merge with therapeutic area\n",
    "top_brands = df_total_rev.sort_values(by='Revenue', ascending=False).head(3)\n",
    "top_with_area = pd.merge(top_brands, df[['Brand', 'Therapeutic Area']].drop_duplicates(), on='Brand')\n",
    "\n",
    "print(\"\\nTop 3 brands by revenue and their therapeutic area:\")\n",
    "print(top_with_area)"
   ]
  },
  {
   "cell_type": "markdown",
   "id": "b41ef8b2",
   "metadata": {},
   "source": [
    "- Insight: The ARV market is the dominant driver of revenue, both in high volume and consistent adoption.\n",
    "- Strategy: If we’re already in ARVs, we should keep investing. If not, we may want to consider entering or partnering in this space.\n"
   ]
  },
  {
   "cell_type": "markdown",
   "id": "b5097833",
   "metadata": {},
   "source": [
    "### 5. What about low performers?"
   ]
  },
  {
   "cell_type": "code",
   "execution_count": 60,
   "id": "ad2c190a",
   "metadata": {},
   "outputs": [
    {
     "name": "stdout",
     "output_type": "stream",
     "text": [
      "\n",
      "Bottom 3 brands by both units sold and revenue:\n",
      "            Units Sold  Revenue  Avg Price  Market Share (%)\n",
      "Brand                                                       \n",
      "Sparitonin        9698   824330       85.0          0.353972\n",
      "Astoridone       10600  1855000      175.0          0.796548\n",
      "Vizidone         10967  1645050      150.0          0.706394\n"
     ]
    }
   ],
   "source": [
    "low_performers = brand_summary.sort_values(by=['Units Sold', 'Revenue']).head(3)\n",
    "\n",
    "print(\"\\nBottom 3 brands by both units sold and revenue:\")\n",
    "print(low_performers)"
   ]
  },
  {
   "cell_type": "markdown",
   "id": "a1afe822",
   "metadata": {},
   "source": [
    "- Insight: These drugs are struggling on both fronts, low reach and low pricing.\n",
    "- Strategy: Reassess their position. Do they need marketing help, better access, or is it time to pull back?\n"
   ]
  }
 ],
 "metadata": {
  "kernelspec": {
   "display_name": "conda_env",
   "language": "python",
   "name": "python3"
  },
  "language_info": {
   "name": "python",
   "version": "3.12.2"
  }
 },
 "nbformat": 4,
 "nbformat_minor": 5
}
